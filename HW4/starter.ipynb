{
 "cells": [
  {
   "cell_type": "code",
   "execution_count": 1,
   "id": "2c51efaa",
   "metadata": {},
   "outputs": [
    {
     "name": "stdout",
     "output_type": "stream",
     "text": [
      "scikit-learn==1.1.1\r\n"
     ]
    }
   ],
   "source": [
    "!pip freeze | grep scikit-learn"
   ]
  },
  {
   "cell_type": "code",
   "execution_count": 2,
   "id": "0ef880a0",
   "metadata": {},
   "outputs": [],
   "source": [
    "import pickle\n",
    "import pandas as pd"
   ]
  },
  {
   "cell_type": "code",
   "execution_count": 3,
   "id": "7836ccfd",
   "metadata": {},
   "outputs": [],
   "source": [
    "with open('model.bin', 'rb') as f_in:\n",
    "    dv, lr = pickle.load(f_in)"
   ]
  },
  {
   "cell_type": "code",
   "execution_count": 4,
   "id": "41c08294",
   "metadata": {},
   "outputs": [],
   "source": [
    "categorical = ['PUlocationID', 'DOlocationID']\n",
    "\n",
    "def read_data(filename):\n",
    "    df = pd.read_parquet(filename)\n",
    "    \n",
    "    df['duration'] = df.dropOff_datetime - df.pickup_datetime\n",
    "    df['duration'] = df.duration.dt.total_seconds() / 60\n",
    "\n",
    "    df = df[(df.duration >= 1) & (df.duration <= 60)].copy()\n",
    "\n",
    "    df[categorical] = df[categorical].fillna(-1).astype('int').astype('str')\n",
    "    \n",
    "    return df"
   ]
  },
  {
   "cell_type": "code",
   "execution_count": 5,
   "id": "4854399a",
   "metadata": {},
   "outputs": [],
   "source": [
    "df = read_data('https://nyc-tlc.s3.amazonaws.com/trip+data/fhv_tripdata_2021-02.parquet')"
   ]
  },
  {
   "cell_type": "code",
   "execution_count": 6,
   "id": "669fda0a",
   "metadata": {},
   "outputs": [],
   "source": [
    "dicts = df[categorical].to_dict(orient='records')\n",
    "X_val = dv.transform(dicts)\n",
    "y_pred = lr.predict(X_val)"
   ]
  },
  {
   "cell_type": "markdown",
   "id": "f5b39682",
   "metadata": {},
   "source": [
    "### Q1. Notebook\n",
    "\n",
    "We'll start with the same notebook we ended up with in homework 1.\n",
    "\n",
    "We cleaned it a little bit and kept only the scoring part. Now it's in homework/starter.ipynb.\n",
    "\n",
    "Run this notebook for the February 2021 FVH data.\n",
    "\n",
    "What's the mean predicted duration for this dataset?\n",
    "\n",
    "    11.19\n",
    "    16.19\n",
    "    21.19\n",
    "    26.19\n"
   ]
  },
  {
   "cell_type": "code",
   "execution_count": 7,
   "id": "0993044b",
   "metadata": {},
   "outputs": [
    {
     "data": {
      "text/plain": [
       "16.191691679979066"
      ]
     },
     "execution_count": 7,
     "metadata": {},
     "output_type": "execute_result"
    }
   ],
   "source": [
    "y_pred.mean()"
   ]
  },
  {
   "cell_type": "markdown",
   "id": "91465440",
   "metadata": {},
   "source": [
    "### Q2. Preparing the output"
   ]
  },
  {
   "cell_type": "code",
   "execution_count": 8,
   "id": "03f79f98",
   "metadata": {},
   "outputs": [
    {
     "data": {
      "text/html": [
       "<div>\n",
       "<style scoped>\n",
       "    .dataframe tbody tr th:only-of-type {\n",
       "        vertical-align: middle;\n",
       "    }\n",
       "\n",
       "    .dataframe tbody tr th {\n",
       "        vertical-align: top;\n",
       "    }\n",
       "\n",
       "    .dataframe thead th {\n",
       "        text-align: right;\n",
       "    }\n",
       "</style>\n",
       "<table border=\"1\" class=\"dataframe\">\n",
       "  <thead>\n",
       "    <tr style=\"text-align: right;\">\n",
       "      <th></th>\n",
       "      <th>ride_id</th>\n",
       "      <th>ride_duration</th>\n",
       "    </tr>\n",
       "  </thead>\n",
       "  <tbody>\n",
       "    <tr>\n",
       "      <th>1</th>\n",
       "      <td>2021/02_1</td>\n",
       "      <td>14.539865</td>\n",
       "    </tr>\n",
       "    <tr>\n",
       "      <th>2</th>\n",
       "      <td>2021/02_2</td>\n",
       "      <td>13.740422</td>\n",
       "    </tr>\n",
       "    <tr>\n",
       "      <th>3</th>\n",
       "      <td>2021/02_3</td>\n",
       "      <td>15.593339</td>\n",
       "    </tr>\n",
       "    <tr>\n",
       "      <th>4</th>\n",
       "      <td>2021/02_4</td>\n",
       "      <td>15.188118</td>\n",
       "    </tr>\n",
       "    <tr>\n",
       "      <th>5</th>\n",
       "      <td>2021/02_5</td>\n",
       "      <td>13.817206</td>\n",
       "    </tr>\n",
       "    <tr>\n",
       "      <th>...</th>\n",
       "      <td>...</td>\n",
       "      <td>...</td>\n",
       "    </tr>\n",
       "    <tr>\n",
       "      <th>1037687</th>\n",
       "      <td>2021/02_1037687</td>\n",
       "      <td>12.433246</td>\n",
       "    </tr>\n",
       "    <tr>\n",
       "      <th>1037688</th>\n",
       "      <td>2021/02_1037688</td>\n",
       "      <td>12.910885</td>\n",
       "    </tr>\n",
       "    <tr>\n",
       "      <th>1037689</th>\n",
       "      <td>2021/02_1037689</td>\n",
       "      <td>15.834923</td>\n",
       "    </tr>\n",
       "    <tr>\n",
       "      <th>1037690</th>\n",
       "      <td>2021/02_1037690</td>\n",
       "      <td>16.783176</td>\n",
       "    </tr>\n",
       "    <tr>\n",
       "      <th>1037691</th>\n",
       "      <td>2021/02_1037691</td>\n",
       "      <td>19.654626</td>\n",
       "    </tr>\n",
       "  </tbody>\n",
       "</table>\n",
       "<p>990113 rows × 2 columns</p>\n",
       "</div>"
      ],
      "text/plain": [
       "                 ride_id  ride_duration\n",
       "1              2021/02_1      14.539865\n",
       "2              2021/02_2      13.740422\n",
       "3              2021/02_3      15.593339\n",
       "4              2021/02_4      15.188118\n",
       "5              2021/02_5      13.817206\n",
       "...                  ...            ...\n",
       "1037687  2021/02_1037687      12.433246\n",
       "1037688  2021/02_1037688      12.910885\n",
       "1037689  2021/02_1037689      15.834923\n",
       "1037690  2021/02_1037690      16.783176\n",
       "1037691  2021/02_1037691      19.654626\n",
       "\n",
       "[990113 rows x 2 columns]"
      ]
     },
     "execution_count": 8,
     "metadata": {},
     "output_type": "execute_result"
    }
   ],
   "source": [
    "year = 2021\n",
    "month = 2\n",
    "df['ride_id'] = f'{year:04d}/{month:02d}_' + df.index.astype('str')\n",
    "df['ride_duration'] = y_pred\n",
    "df_result = df[['ride_id', 'ride_duration']]\n",
    "df_result"
   ]
  },
  {
   "cell_type": "code",
   "execution_count": 9,
   "id": "9633f4b4",
   "metadata": {},
   "outputs": [],
   "source": [
    "output_file = 'result_202102.parquet'\n",
    "\n",
    "df_result.to_parquet(\n",
    "    output_file,\n",
    "    engine='pyarrow',\n",
    "    compression=None,\n",
    "    index=False\n",
    ")"
   ]
  },
  {
   "cell_type": "code",
   "execution_count": 10,
   "id": "25189c42",
   "metadata": {},
   "outputs": [
    {
     "name": "stdout",
     "output_type": "stream",
     "text": [
      "19M\tresult_202102.parquet\r\n"
     ]
    }
   ],
   "source": [
    "!du -h result_202102.parquet"
   ]
  },
  {
   "cell_type": "markdown",
   "id": "838b4c4c",
   "metadata": {},
   "source": [
    "### Q3. Creating the scoring script\n",
    "\n",
    "Now let's turn the notebook into a script.\n",
    "\n",
    "Which command you need to execute for that?"
   ]
  },
  {
   "cell_type": "code",
   "execution_count": 11,
   "id": "9c377967",
   "metadata": {},
   "outputs": [
    {
     "name": "stdout",
     "output_type": "stream",
     "text": [
      "[NbConvertApp] Converting notebook starter.ipynb to script\n",
      "[NbConvertApp] Writing 2650 bytes to starter.py\n"
     ]
    }
   ],
   "source": [
    "!jupyter nbconvert --to script starter.ipynb"
   ]
  },
  {
   "cell_type": "markdown",
   "id": "cf9047ac",
   "metadata": {},
   "source": [
    "### Q4. Virtual environment\n",
    "\n",
    "Now let's put everything into a virtual environment. We'll use pipenv for that.\n",
    "\n",
    "Install all the required libraries. Pay attention to the Scikit-Learn version: check the starter notebook for details.\n",
    "\n",
    "After installing the libraries, pipenv creates two files: Pipfile and Pipfile.lock. The Pipfile.lock file keeps the hashes of the dependencies we use for the virtual env.\n",
    "\n",
    "What's the first hash for the Scikit-Learn dependency?"
   ]
  },
  {
   "cell_type": "code",
   "execution_count": 12,
   "id": "267cec93",
   "metadata": {},
   "outputs": [
    {
     "data": {
      "text/plain": [
       "'1.0.2'"
      ]
     },
     "execution_count": 12,
     "metadata": {},
     "output_type": "execute_result"
    }
   ],
   "source": [
    "import sklearn\n",
    "sklearn.__version__"
   ]
  },
  {
   "cell_type": "code",
   "execution_count": 16,
   "id": "848d83c4",
   "metadata": {},
   "outputs": [
    {
     "name": "stdout",
     "output_type": "stream",
     "text": [
      "\u001b[32m\u001b[22mCourtesy Notice\u001b[39m\u001b[22m: Pipenv found itself running within a virtual environment, so it will automatically use that environment, instead of creating its own for any project. You can set \u001b[39m\u001b[1mPIPENV_IGNORE_VIRTUALENVS=1\u001b[39m\u001b[22m to force pipenv to ignore that environment and create its own instead. You can set \u001b[39m\u001b[1mPIPENV_VERBOSITY=-1\u001b[39m\u001b[22m to suppress this warning.\n",
      "\u001b[39m\u001b[1mInstalling \u001b[32m\u001b[1mscikit-learn==1.0.2\u001b[39m\u001b[22m...\u001b[39m\u001b[22m\n",
      "\u001b[K\u001b[39m\u001b[1mAdding\u001b[39m\u001b[22m \u001b[32m\u001b[1mscikit-learn\u001b[39m\u001b[22m \u001b[39m\u001b[1mto Pipfile's\u001b[39m\u001b[22m \u001b[33m\u001b[1m[packages]\u001b[39m\u001b[22m\u001b[39m\u001b[1m...\u001b[39m\u001b[22m\n",
      "\u001b[K\u001b[?25h✔ Installation Succeeded\u001b[0m \n",
      "\u001b[39m\u001b[1mInstalling \u001b[32m\u001b[1mpyarrow\u001b[39m\u001b[22m...\u001b[39m\u001b[22m\n",
      "\u001b[K\u001b[39m\u001b[1mAdding\u001b[39m\u001b[22m \u001b[32m\u001b[1mpyarrow\u001b[39m\u001b[22m \u001b[39m\u001b[1mto Pipfile's\u001b[39m\u001b[22m \u001b[33m\u001b[1m[packages]\u001b[39m\u001b[22m\u001b[39m\u001b[1m...\u001b[39m\u001b[22m\n",
      "\u001b[K\u001b[?25h✔ Installation Succeeded\u001b[0m \n",
      "\u001b[39m\u001b[1mInstalling \u001b[32m\u001b[1mpandas\u001b[39m\u001b[22m...\u001b[39m\u001b[22m\n",
      "\u001b[K\u001b[39m\u001b[1mAdding\u001b[39m\u001b[22m \u001b[32m\u001b[1mpandas\u001b[39m\u001b[22m \u001b[39m\u001b[1mto Pipfile's\u001b[39m\u001b[22m \u001b[33m\u001b[1m[packages]\u001b[39m\u001b[22m\u001b[39m\u001b[1m...\u001b[39m\u001b[22m\n",
      "\u001b[K\u001b[?25h✔ Installation Succeeded\u001b[0m \n",
      "\u001b[33m\u001b[1mPipfile.lock (c1d6ab) out of date, updating to (4076db)...\u001b[39m\u001b[22m\n",
      "\u001b[39m\u001b[22mLocking\u001b[39m\u001b[22m \u001b[33m\u001b[22m[dev-packages]\u001b[39m\u001b[22m \u001b[39m\u001b[22mdependencies...\u001b[39m\u001b[22m\n",
      "\u001b[39m\u001b[22mLocking\u001b[39m\u001b[22m \u001b[33m\u001b[22m[packages]\u001b[39m\u001b[22m \u001b[39m\u001b[22mdependencies...\u001b[39m\u001b[22m\n",
      "\u001b[K\u001b[KBuilding requirements...\n",
      "\u001b[KResolving dependencies...\n",
      "\u001b[K\u001b[?25h\u001b[32m\u001b[22m✔ Success!\u001b[39m\u001b[22m\u001b[0m \n",
      "\u001b[39m\u001b[1mUpdated Pipfile.lock (4076db)!\u001b[39m\u001b[22m\n",
      "\u001b[39m\u001b[1mInstalling dependencies from Pipfile.lock (4076db)...\u001b[39m\u001b[22m\n",
      "  🐍   \u001b[32m\u001b[1m▉\u001b[39m\u001b[22m\u001b[32m\u001b[1m▉\u001b[39m\u001b[22m\u001b[32m\u001b[1m▉\u001b[39m\u001b[22m\u001b[32m\u001b[1m▉\u001b[39m\u001b[22m\u001b[32m\u001b[1m▉\u001b[39m\u001b[22m\u001b[32m\u001b[1m▉\u001b[39m\u001b[22m\u001b[32m\u001b[1m▉\u001b[39m\u001b[22m\u001b[32m\u001b[1m▉\u001b[39m\u001b[22m\u001b[32m\u001b[1m▉\u001b[39m\u001b[22m\u001b[32m\u001b[1m▉\u001b[39m\u001b[22m\u001b[32m\u001b[1m▉\u001b[39m\u001b[22m\u001b[32m\u001b[1m▉\u001b[39m\u001b[22m\u001b[32m\u001b[1m▉\u001b[39m\u001b[22m\u001b[32m\u001b[1m▉\u001b[39m\u001b[22m\u001b[32m\u001b[1m▉\u001b[39m\u001b[22m\u001b[32m\u001b[1m▉\u001b[39m\u001b[22m\u001b[32m\u001b[1m▉\u001b[39m\u001b[22m\u001b[32m\u001b[1m▉\u001b[39m\u001b[22m\u001b[32m\u001b[1m▉\u001b[39m\u001b[22m\u001b[32m\u001b[1m▉\u001b[39m\u001b[22m\u001b[32m\u001b[1m▉\u001b[39m\u001b[22m\u001b[32m\u001b[1m▉\u001b[39m\u001b[22m\u001b[32m\u001b[1m▉\u001b[39m\u001b[22m\u001b[32m\u001b[1m▉\u001b[39m\u001b[22m\u001b[32m\u001b[1m▉\u001b[39m\u001b[22m\u001b[32m\u001b[1m▉\u001b[39m\u001b[22m\u001b[32m\u001b[1m▉\u001b[39m\u001b[22m\u001b[32m\u001b[1m▉\u001b[39m\u001b[22m\u001b[32m\u001b[1m▉\u001b[39m\u001b[22m\u001b[32m\u001b[1m▉\u001b[39m\u001b[22m\u001b[32m\u001b[1m▉\u001b[39m\u001b[22m\u001b[32m\u001b[1m▉\u001b[39m\u001b[22m 0/0 — \u001b[30m\u001b[22m00:00:00\u001b[39m\u001b[22m\n",
      "To activate this project's virtualenv, run \u001b[33m\u001b[22mpipenv shell\u001b[39m\u001b[22m.\n",
      "Alternatively, run a command inside the virtualenv with \u001b[33m\u001b[22mpipenv run\u001b[39m\u001b[22m.\n",
      "\u001b[0m"
     ]
    }
   ],
   "source": [
    "!pipenv install scikit-learn==1.0.2 pyarrow pandas --python==3.9"
   ]
  },
  {
   "cell_type": "code",
   "execution_count": 17,
   "id": "b24ca672",
   "metadata": {},
   "outputs": [
    {
     "name": "stdout",
     "output_type": "stream",
     "text": [
      "{\r\n",
      "    \"_meta\": {\r\n",
      "        \"hash\": {\r\n",
      "            \"sha256\": \"2fbb713c5e231cbad2b86f0ae9ecd6ce680c7054c8b3b88ad20f7315224076db\"\r\n",
      "        },\r\n",
      "        \"pipfile-spec\": 6,\r\n",
      "        \"requires\": {\r\n",
      "            \"python_version\": \"3.9\"\r\n",
      "        },\r\n",
      "        \"sources\": [\r\n",
      "            {\r\n",
      "                \"name\": \"pypi\",\r\n",
      "                \"url\": \"https://pypi.org/simple\",\r\n",
      "                \"verify_ssl\": true\r\n",
      "            }\r\n",
      "        ]\r\n",
      "    },\r\n",
      "    \"default\": {\r\n",
      "        \"joblib\": {\r\n",
      "            \"hashes\": [\r\n",
      "                \"sha256:4158fcecd13733f8be669be0683b96ebdbbd38d23559f54dca7205aea1bf1e35\",\r\n",
      "                \"sha256:f21f109b3c7ff9d95f8387f752d0d9c34a02aa2f7060c2135f465da0e5160ff6\"\r\n",
      "            ],\r\n",
      "            \"markers\": \"python_version >= '3.6'\",\r\n",
      "            \"version\": \"==1.1.0\"\r\n",
      "        },\r\n",
      "        \"numpy\": {\r\n",
      "            \"hashes\": [\r\n",
      "                \"sha256:0791fbd1e43bf74b3502133207e378901272f3c156c4df4954cad833b1380207\",\r\n",
      "                \"sha256:1ce7ab2053e36c0a71e7a13a7475bd3b1f54750b4b433adc96313e127b870887\",\r\n",
      "                \"sha256:2d487e06ecbf1dc2f18e7efce82ded4f705f4bd0cd02677ffccfb39e5c284c7e\",\r\n",
      "                \"sha256:37431a77ceb9307c28382c9773da9f306435135fae6b80b62a11c53cfedd8802\",\r\n",
      "                \"sha256:3e1ffa4748168e1cc8d3cde93f006fe92b5421396221a02f2274aab6ac83b077\",\r\n",
      "                \"sha256:425b390e4619f58d8526b3dcf656dde069133ae5c240229821f01b5f44ea07af\",\r\n",
      "                \"sha256:43a8ca7391b626b4c4fe20aefe79fec683279e31e7c79716863b4b25021e0e74\",\r\n",
      "                \"sha256:4c6036521f11a731ce0648f10c18ae66d7143865f19f7299943c985cdc95afb5\",\r\n",
      "                \"sha256:59d55e634968b8f77d3fd674a3cf0b96e85147cd6556ec64ade018f27e9479e1\",\r\n",
      "                \"sha256:64f56fc53a2d18b1924abd15745e30d82a5782b2cab3429aceecc6875bd5add0\",\r\n",
      "                \"sha256:7228ad13744f63575b3a972d7ee4fd61815b2879998e70930d4ccf9ec721dce0\",\r\n",
      "                \"sha256:9ce7df0abeabe7fbd8ccbf343dc0db72f68549856b863ae3dd580255d009648e\",\r\n",
      "                \"sha256:a911e317e8c826ea632205e63ed8507e0dc877dcdc49744584dfc363df9ca08c\",\r\n",
      "                \"sha256:b89bf9b94b3d624e7bb480344e91f68c1c6c75f026ed6755955117de00917a7c\",\r\n",
      "                \"sha256:ba9ead61dfb5d971d77b6c131a9dbee62294a932bf6a356e48c75ae684e635b3\",\r\n",
      "                \"sha256:c1d937820db6e43bec43e8d016b9b3165dcb42892ea9f106c70fb13d430ffe72\",\r\n",
      "                \"sha256:cc7f00008eb7d3f2489fca6f334ec19ca63e31371be28fd5dad955b16ec285bd\",\r\n",
      "                \"sha256:d4c5d5eb2ec8da0b4f50c9a843393971f31f1d60be87e0fb0917a49133d257d6\",\r\n",
      "                \"sha256:e96d7f3096a36c8754207ab89d4b3282ba7b49ea140e4973591852c77d09eb76\",\r\n",
      "                \"sha256:f0725df166cf4785c0bc4cbfb320203182b1ecd30fee6e541c8752a92df6aa32\",\r\n",
      "                \"sha256:f3eb268dbd5cfaffd9448113539e44e2dd1c5ca9ce25576f7c04a5453edc26fa\",\r\n",
      "                \"sha256:fb7a980c81dd932381f8228a426df8aeb70d59bbcda2af075b627bbc50207cba\"\r\n",
      "            ],\r\n",
      "            \"markers\": \"python_version >= '3.8'\",\r\n",
      "            \"version\": \"==1.22.4\"\r\n",
      "        },\r\n",
      "        \"pandas\": {\r\n",
      "            \"hashes\": [\r\n",
      "                \"sha256:0010771bd9223f7afe5f051eb47c4a49534345dfa144f2f5470b27189a4dd3b5\",\r\n",
      "                \"sha256:061609334a8182ab500a90fe66d46f6f387de62d3a9cb9aa7e62e3146c712167\",\r\n",
      "                \"sha256:09d8be7dd9e1c4c98224c4dfe8abd60d145d934e9fc1f5f411266308ae683e6a\",\r\n",
      "                \"sha256:295872bf1a09758aba199992c3ecde455f01caf32266d50abc1a073e828a7b9d\",\r\n",
      "                \"sha256:3228198333dd13c90b6434ddf61aa6d57deaca98cf7b654f4ad68a2db84f8cfe\",\r\n",
      "                \"sha256:385c52e85aaa8ea6a4c600a9b2821181a51f8be0aee3af6f2dcb41dafc4fc1d0\",\r\n",
      "                \"sha256:51649ef604a945f781105a6d2ecf88db7da0f4868ac5d45c51cb66081c4d9c73\",\r\n",
      "                \"sha256:5586cc95692564b441f4747c47c8a9746792e87b40a4680a2feb7794defb1ce3\",\r\n",
      "                \"sha256:5a206afa84ed20e07603f50d22b5f0db3fb556486d8c2462d8bc364831a4b417\",\r\n",
      "                \"sha256:5b79af3a69e5175c6fa7b4e046b21a646c8b74e92c6581a9d825687d92071b51\",\r\n",
      "                \"sha256:5c54ea4ef3823108cd4ec7fb27ccba4c3a775e0f83e39c5e17f5094cb17748bc\",\r\n",
      "                \"sha256:8c5bf555b6b0075294b73965adaafb39cf71c312e38c5935c93d78f41c19828a\",\r\n",
      "                \"sha256:92bc1fc585f1463ca827b45535957815b7deb218c549b7c18402c322c7549a12\",\r\n",
      "                \"sha256:95c1e422ced0199cf4a34385ff124b69412c4bc912011ce895582bee620dfcaa\",\r\n",
      "                \"sha256:b8134651258bce418cb79c71adeff0a44090c98d955f6953168ba16cc285d9f7\",\r\n",
      "                \"sha256:be67c782c4f1b1f24c2f16a157e12c2693fd510f8df18e3287c77f33d124ed07\",\r\n",
      "                \"sha256:c072c7f06b9242c855ed8021ff970c0e8f8b10b35e2640c657d2a541c5950f59\",\r\n",
      "                \"sha256:d0d4f13e4be7ce89d7057a786023c461dd9370040bdb5efa0a7fe76b556867a0\",\r\n",
      "                \"sha256:df82739e00bb6daf4bba4479a40f38c718b598a84654cbd8bb498fd6b0aa8c16\",\r\n",
      "                \"sha256:f549097993744ff8c41b5e8f2f0d3cbfaabe89b4ae32c8c08ead6cc535b80139\",\r\n",
      "                \"sha256:ff08a14ef21d94cdf18eef7c569d66f2e24e0bc89350bcd7d243dd804e3b5eb2\"\r\n",
      "            ],\r\n",
      "            \"index\": \"pypi\",\r\n",
      "            \"version\": \"==1.4.2\"\r\n",
      "        },\r\n",
      "        \"pyarrow\": {\r\n",
      "            \"hashes\": [\r\n",
      "                \"sha256:03a10daad957970e914920b793f6a49416699e791f4c827927fd4e4d892a5d16\",\r\n",
      "                \"sha256:15511ce2f50343f3fd5e9f7c30e4d004da9134e9597e93e9c96c3985928cbe82\",\r\n",
      "                \"sha256:1dd482ccb07c96188947ad94d7536ab696afde23ad172df8e18944ec79f55055\",\r\n",
      "                \"sha256:25a5f7c7f36df520b0b7363ba9f51c3070799d4b05d587c60c0adaba57763479\",\r\n",
      "                \"sha256:3bd201af6e01f475f02be88cf1f6ee9856ab98c11d8bbb6f58347c58cd07be00\",\r\n",
      "                \"sha256:3fee786259d986f8c046100ced54d63b0c8c9f7cdb7d1bbe07dc69e0f928141c\",\r\n",
      "                \"sha256:42b7982301a9ccd06e1dd4fabd2e8e5df74b93ce4c6b87b81eb9e2d86dc79871\",\r\n",
      "                \"sha256:4a18a211ed888f1ac0b0ebcb99e2d9a3e913a481120ee9b1fe33d3fedb945d4e\",\r\n",
      "                \"sha256:51e58778fcb8829fca37fbfaea7f208d5ce7ea89ea133dd13d8ce745278ee6f0\",\r\n",
      "                \"sha256:541e7845ce5f27a861eb5b88ee165d931943347eec17b9ff1e308663531c9647\",\r\n",
      "                \"sha256:65c7f4cc2be195e3db09296d31a654bb6d8786deebcab00f0e2455fd109d7456\",\r\n",
      "                \"sha256:69b043a3fce064ebd9fbae6abc30e885680296e5bd5e6f7353e6a87966cf2ad7\",\r\n",
      "                \"sha256:6ea2c54e6b5ecd64e8299d2abb40770fe83a718f5ddc3825ddd5cd28e352cce1\",\r\n",
      "                \"sha256:78a6ac39cd793582998dac88ab5c1c1dd1e6503df6672f064f33a21937ec1d8d\",\r\n",
      "                \"sha256:81b87b782a1366279411f7b235deab07c8c016e13f9af9f7c7b0ee564fedcc8f\",\r\n",
      "                \"sha256:8392b9a1e837230090fe916415ed4c3433b2ddb1a798e3f6438303c70fbabcfc\",\r\n",
      "                \"sha256:863be6bad6c53797129610930794a3e797cb7d41c0a30e6794a2ac0e42ce41b8\",\r\n",
      "                \"sha256:8cd86e04a899bef43e25184f4b934584861d787cf7519851a8c031803d45c6d8\",\r\n",
      "                \"sha256:95c7822eb37663e073da9892f3499fe28e84f3464711a3e555e0c5463fd53a19\",\r\n",
      "                \"sha256:98c13b2e28a91b0fbf24b483df54a8d7814c074c2623ecef40dce1fa52f6539b\",\r\n",
      "                \"sha256:ba2b7aa7efb59156b87987a06f5241932914e4d5bbb74a465306b00a6c808849\",\r\n",
      "                \"sha256:c9c97c8e288847e091dfbcdf8ce51160e638346f51919a9e74fe038b2e8aee62\",\r\n",
      "                \"sha256:cb06cacc19f3b426681f2f6803cc06ff481e7fe5b3a533b406bc5b2138843d4f\",\r\n",
      "                \"sha256:ce64bc1da3109ef5ab9e4c60316945a7239c798098a631358e9ab39f6e5529e9\",\r\n",
      "                \"sha256:d5ef4372559b191cafe7db8932801eee252bfc35e983304e7d60b6954576a071\",\r\n",
      "                \"sha256:d6f1e1040413651819074ef5b500835c6c42e6c446532a1ddef8bc5054e8dba5\",\r\n",
      "                \"sha256:deb400df8f19a90b662babceb6dd12daddda6bb357c216e558b207c0770c7654\",\r\n",
      "                \"sha256:ea132067ec712d1b1116a841db1c95861508862b21eddbcafefbce8e4b96b867\",\r\n",
      "                \"sha256:ece333706a94c1221ced8b299042f85fd88b5db802d71be70024433ddf3aecab\",\r\n",
      "                \"sha256:edad25522ad509e534400d6ab98cf1872d30c31bc5e947712bfd57def7af15bb\"\r\n",
      "            ],\r\n",
      "            \"index\": \"pypi\",\r\n",
      "            \"version\": \"==8.0.0\"\r\n",
      "        },\r\n",
      "        \"python-dateutil\": {\r\n",
      "            \"hashes\": [\r\n",
      "                \"sha256:0123cacc1627ae19ddf3c27a5de5bd67ee4586fbdd6440d9748f8abb483d3e86\",\r\n",
      "                \"sha256:961d03dc3453ebbc59dbdea9e4e11c5651520a876d0f4db161e8674aae935da9\"\r\n",
      "            ],\r\n",
      "            \"markers\": \"python_version >= '2.7' and python_version not in '3.0, 3.1, 3.2, 3.3'\",\r\n",
      "            \"version\": \"==2.8.2\"\r\n",
      "        },\r\n",
      "        \"pytz\": {\r\n",
      "            \"hashes\": [\r\n",
      "                \"sha256:1e760e2fe6a8163bc0b3d9a19c4f84342afa0a2affebfaa84b01b978a02ecaa7\",\r\n",
      "                \"sha256:e68985985296d9a66a881eb3193b0906246245294a881e7c8afe623866ac6a5c\"\r\n",
      "            ],\r\n",
      "            \"version\": \"==2022.1\"\r\n",
      "        },\r\n",
      "        \"scikit-learn\": {\r\n",
      "            \"hashes\": [\r\n",
      "                \"sha256:08ef968f6b72033c16c479c966bf37ccd49b06ea91b765e1cc27afefe723920b\",\r\n",
      "                \"sha256:158faf30684c92a78e12da19c73feff9641a928a8024b4fa5ec11d583f3d8a87\",\r\n",
      "                \"sha256:16455ace947d8d9e5391435c2977178d0ff03a261571e67f627c8fee0f9d431a\",\r\n",
      "                \"sha256:245c9b5a67445f6f044411e16a93a554edc1efdcce94d3fc0bc6a4b9ac30b752\",\r\n",
      "                \"sha256:285db0352e635b9e3392b0b426bc48c3b485512d3b4ac3c7a44ec2a2ba061e66\",\r\n",
      "                \"sha256:2f3b453e0b149898577e301d27e098dfe1a36943f7bb0ad704d1e548efc3b448\",\r\n",
      "                \"sha256:46f431ec59dead665e1370314dbebc99ead05e1c0a9df42f22d6a0e00044820f\",\r\n",
      "                \"sha256:55f2f3a8414e14fbee03782f9fe16cca0f141d639d2b1c1a36779fa069e1db57\",\r\n",
      "                \"sha256:5cb33fe1dc6f73dc19e67b264dbb5dde2a0539b986435fdd78ed978c14654830\",\r\n",
      "                \"sha256:75307d9ea39236cad7eea87143155eea24d48f93f3a2f9389c817f7019f00705\",\r\n",
      "                \"sha256:7626a34eabbf370a638f32d1a3ad50526844ba58d63e3ab81ba91e2a7c6d037e\",\r\n",
      "                \"sha256:7a93c1292799620df90348800d5ac06f3794c1316ca247525fa31169f6d25855\",\r\n",
      "                \"sha256:7d6b2475f1c23a698b48515217eb26b45a6598c7b1840ba23b3c5acece658dbb\",\r\n",
      "                \"sha256:80095a1e4b93bd33261ef03b9bc86d6db649f988ea4dbcf7110d0cded8d7213d\",\r\n",
      "                \"sha256:85260fb430b795d806251dd3bb05e6f48cdc777ac31f2bcf2bc8bbed3270a8f5\",\r\n",
      "                \"sha256:9369b030e155f8188743eb4893ac17a27f81d28a884af460870c7c072f114243\",\r\n",
      "                \"sha256:a053a6a527c87c5c4fa7bf1ab2556fa16d8345cf99b6c5a19030a4a7cd8fd2c0\",\r\n",
      "                \"sha256:a90b60048f9ffdd962d2ad2fb16367a87ac34d76e02550968719eb7b5716fd10\",\r\n",
      "                \"sha256:a999c9f02ff9570c783069f1074f06fe7386ec65b84c983db5aeb8144356a355\",\r\n",
      "                \"sha256:b1391d1a6e2268485a63c3073111fe3ba6ec5145fc957481cfd0652be571226d\",\r\n",
      "                \"sha256:b54a62c6e318ddbfa7d22c383466d38d2ee770ebdb5ddb668d56a099f6eaf75f\",\r\n",
      "                \"sha256:b5870959a5484b614f26d31ca4c17524b1b0317522199dc985c3b4256e030767\",\r\n",
      "                \"sha256:bc3744dabc56b50bec73624aeca02e0def06b03cb287de26836e730659c5d29c\",\r\n",
      "                \"sha256:d93d4c28370aea8a7cbf6015e8a669cd5d69f856cc2aa44e7a590fb805bb5583\",\r\n",
      "                \"sha256:d9aac97e57c196206179f674f09bc6bffcd0284e2ba95b7fe0b402ac3f986023\",\r\n",
      "                \"sha256:da3c84694ff693b5b3194d8752ccf935a665b8b5edc33a283122f4273ca3e687\",\r\n",
      "                \"sha256:e174242caecb11e4abf169342641778f68e1bfaba80cd18acd6bc84286b9a534\",\r\n",
      "                \"sha256:eabceab574f471de0b0eb3f2ecf2eee9f10b3106570481d007ed1c84ebf6d6a1\",\r\n",
      "                \"sha256:f14517e174bd7332f1cca2c959e704696a5e0ba246eb8763e6c24876d8710049\",\r\n",
      "                \"sha256:fa38a1b9b38ae1fad2863eff5e0d69608567453fdfc850c992e6e47eb764e846\",\r\n",
      "                \"sha256:ff3fa8ea0e09e38677762afc6e14cad77b5e125b0ea70c9bba1992f02c93b028\",\r\n",
      "                \"sha256:ff746a69ff2ef25f62b36338c615dd15954ddc3ab8e73530237dd73235e76d62\"\r\n",
      "            ],\r\n",
      "            \"index\": \"pypi\",\r\n",
      "            \"version\": \"==1.0.2\"\r\n",
      "        },\r\n",
      "        \"scipy\": {\r\n",
      "            \"hashes\": [\r\n",
      "                \"sha256:02b567e722d62bddd4ac253dafb01ce7ed8742cf8031aea030a41414b86c1125\",\r\n",
      "                \"sha256:1166514aa3bbf04cb5941027c6e294a000bba0cf00f5cdac6c77f2dad479b434\",\r\n",
      "                \"sha256:1da52b45ce1a24a4a22db6c157c38b39885a990a566748fc904ec9f03ed8c6ba\",\r\n",
      "                \"sha256:23b22fbeef3807966ea42d8163322366dd89da9bebdc075da7034cee3a1441ca\",\r\n",
      "                \"sha256:28d2cab0c6ac5aa131cc5071a3a1d8e1366dad82288d9ec2ca44df78fb50e649\",\r\n",
      "                \"sha256:2ef0fbc8bcf102c1998c1f16f15befe7cffba90895d6e84861cd6c6a33fb54f6\",\r\n",
      "                \"sha256:3b69b90c9419884efeffaac2c38376d6ef566e6e730a231e15722b0ab58f0328\",\r\n",
      "                \"sha256:4b93ec6f4c3c4d041b26b5f179a6aab8f5045423117ae7a45ba9710301d7e462\",\r\n",
      "                \"sha256:4e53a55f6a4f22de01ffe1d2f016e30adedb67a699a310cdcac312806807ca81\",\r\n",
      "                \"sha256:6311e3ae9cc75f77c33076cb2794fb0606f14c8f1b1c9ff8ce6005ba2c283621\",\r\n",
      "                \"sha256:65b77f20202599c51eb2771d11a6b899b97989159b7975e9b5259594f1d35ef4\",\r\n",
      "                \"sha256:6cc6b33139eb63f30725d5f7fa175763dc2df6a8f38ddf8df971f7c345b652dc\",\r\n",
      "                \"sha256:70de2f11bf64ca9921fda018864c78af7147025e467ce9f4a11bc877266900a6\",\r\n",
      "                \"sha256:70ebc84134cf0c504ce6a5f12d6db92cb2a8a53a49437a6bb4edca0bc101f11c\",\r\n",
      "                \"sha256:83606129247e7610b58d0e1e93d2c5133959e9cf93555d3c27e536892f1ba1f2\",\r\n",
      "                \"sha256:93d07494a8900d55492401917a119948ed330b8c3f1d700e0b904a578f10ead4\",\r\n",
      "                \"sha256:9c4e3ae8a716c8b3151e16c05edb1daf4cb4d866caa385e861556aff41300c14\",\r\n",
      "                \"sha256:9dd4012ac599a1e7eb63c114d1eee1bcfc6dc75a29b589ff0ad0bb3d9412034f\",\r\n",
      "                \"sha256:9e3fb1b0e896f14a85aa9a28d5f755daaeeb54c897b746df7a55ccb02b340f33\",\r\n",
      "                \"sha256:a0aa8220b89b2e3748a2836fbfa116194378910f1a6e78e4675a095bcd2c762d\",\r\n",
      "                \"sha256:d3b3c8924252caaffc54d4a99f1360aeec001e61267595561089f8b5900821bb\",\r\n",
      "                \"sha256:e013aed00ed776d790be4cb32826adb72799c61e318676172495383ba4570aa4\",\r\n",
      "                \"sha256:f3e7a8867f307e3359cc0ed2c63b61a1e33a19080f92fe377bc7d49f646f2ec1\"\r\n",
      "            ],\r\n",
      "            \"markers\": \"python_version < '3.11' and python_version >= '3.8'\",\r\n",
      "            \"version\": \"==1.8.1\"\r\n",
      "        },\r\n",
      "        \"six\": {\r\n",
      "            \"hashes\": [\r\n",
      "                \"sha256:1e61c37477a1626458e36f7b1d82aa5c9b094fa4802892072e49de9c60c4c926\",\r\n",
      "                \"sha256:8abb2f1d86890a2dfb989f9a77cfcfd3e47c2a354b01111771326f8aa26e0254\"\r\n",
      "            ],\r\n",
      "            \"markers\": \"python_version >= '2.7' and python_version not in '3.0, 3.1, 3.2, 3.3'\",\r\n",
      "            \"version\": \"==1.16.0\"\r\n",
      "        },\r\n",
      "        \"threadpoolctl\": {\r\n",
      "            \"hashes\": [\r\n",
      "                \"sha256:8b99adda265feb6773280df41eece7b2e6561b772d21ffd52e372f999024907b\",\r\n",
      "                \"sha256:a335baacfaa4400ae1f0d8e3a58d6674d2f8828e3716bb2802c44955ad391380\"\r\n",
      "            ],\r\n",
      "            \"markers\": \"python_version >= '3.6'\",\r\n",
      "            \"version\": \"==3.1.0\"\r\n",
      "        }\r\n",
      "    },\r\n",
      "    \"develop\": {}\r\n",
      "}\r\n"
     ]
    }
   ],
   "source": [
    "!cat Pipfile.lock"
   ]
  },
  {
   "cell_type": "markdown",
   "id": "5cba210a",
   "metadata": {},
   "source": [
    "### Q5. Parametrize the script\n",
    "\n",
    "Let's now make the script configurable via CLI. We'll create two parameters: year and month.\n",
    "\n",
    "Run the script for March 2021.\n",
    "\n",
    "What's the mean predicted duration?\n",
    "\n",
    "    11.29\n",
    "    16.29\n",
    "    21.29\n",
    "    26.29\n",
    "\n",
    "Hint: just add a print statement to your script."
   ]
  },
  {
   "attachments": {
    "image.png": {
     "image/png": "[encoded data removed]"
    }
   },
   "cell_type": "markdown",
   "id": "ee8a0fab",
   "metadata": {},
   "source": [
    "![image.png](attachment:image.png)"
   ]
  },
  {
   "cell_type": "markdown",
   "id": "8354a850",
   "metadata": {},
   "source": [
    "### Q6. Docker contaner\n",
    "\n",
    "Finally, we'll package the script in the docker container. For that, you'll need to use a base image that we prepared.\n",
    "\n",
    "This is how it looks like:\n",
    "\n",
    "FROM python:3.9.7-slim\n",
    "\n",
    "WORKDIR /app\n",
    "COPY [ \"model2.bin\", \"model.bin\" ]\n",
    "\n",
    "(see homework/Dockerfile)\n",
    "\n",
    "We pushed it to agrigorev/zoomcamp-model:mlops-3.9.7-slim, which you should use as your base image.\n",
    "\n",
    "That is, this is how your Dockerfile should start:\n",
    "\n",
    "FROM agrigorev/zoomcamp-model:mlops-3.9.7-slim\n",
    "\n",
    "\\# do stuff here\n",
    "\n",
    "This image already has a pickle file with a dictionary vectorizer and a model. You will need to use them.\n",
    "\n",
    "Important: don't copy the model to the docker image. You will need to use the pickle file already in the image.\n",
    "\n",
    "Now run the script with docker. What's the mean predicted duration for April 2021?\n",
    "\n",
    "    9.96\n",
    "    16.55\n",
    "    25.96\n",
    "    36.55\n"
   ]
  },
  {
   "attachments": {
    "image.png": {
     "image/png": "[encoded data removed]"
    }
   },
   "cell_type": "markdown",
   "id": "5670ec0b",
   "metadata": {},
   "source": [
    "![image.png](attachment:image.png)"
   ]
  },
  {
   "cell_type": "code",
   "execution_count": null,
   "id": "f1bd9ae1",
   "metadata": {},
   "outputs": [],
   "source": []
  }
 ],
 "metadata": {
  "kernelspec": {
   "display_name": "Python 3 (ipykernel)",
   "language": "python",
   "name": "python3"
  },
  "language_info": {
   "codemirror_mode": {
    "name": "ipython",
    "version": 3
   },
   "file_extension": ".py",
   "mimetype": "text/x-python",
   "name": "python",
   "nbconvert_exporter": "python",
   "pygments_lexer": "ipython3",
   "version": "3.9.12"
  }
 },
 "nbformat": 4,
 "nbformat_minor": 5
}
