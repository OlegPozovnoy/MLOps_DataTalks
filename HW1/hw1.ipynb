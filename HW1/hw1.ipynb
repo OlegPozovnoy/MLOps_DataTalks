{
 "cells": [
  {
   "cell_type": "code",
   "execution_count": 1,
   "id": "60626383",
   "metadata": {},
   "outputs": [],
   "source": [
    "import pandas as pd\n",
    "import matplotlib.pyplot as plt\n",
    "import datetime\n",
    "import seaborn as sns"
   ]
  },
  {
   "cell_type": "markdown",
   "id": "df0fe672",
   "metadata": {},
   "source": [
    "\n",
    "### Q1. Downloading the data\n",
    "\n",
    "We'll use the same NYC taxi dataset, but instead of \"Green Taxi Trip Records\", we'll use \"For-Hire Vehicle Trip Records\".\n",
    "\n",
    "Download the data for January and February 2021.\n",
    "\n",
    "Note that you need \"For-Hire Vehicle Trip Records\", not \"High Volume For-Hire Vehicle Trip Records\".\n",
    "\n",
    "Read the data for January. How many records are there?\n",
    "\n",
    "    1054112\n",
    "    1154112\n",
    "    1254112\n",
    "    1354112\n"
   ]
  },
  {
   "cell_type": "code",
   "execution_count": 2,
   "id": "d7c098f2",
   "metadata": {},
   "outputs": [],
   "source": [
    "df_jan = pd.read_parquet('data/fhv_tripdata_2021-01.parquet', engine='fastparquet')\n",
    "df_feb = pd.read_parquet('data/fhv_tripdata_2021-02.parquet', engine='fastparquet')"
   ]
  },
  {
   "cell_type": "code",
   "execution_count": 3,
   "id": "1f9fa61d",
   "metadata": {},
   "outputs": [
    {
     "data": {
      "text/plain": [
       "1154112"
      ]
     },
     "execution_count": 3,
     "metadata": {},
     "output_type": "execute_result"
    }
   ],
   "source": [
    "init_train_len = len(df_jan.index)\n",
    "init_train_len"
   ]
  },
  {
   "cell_type": "markdown",
   "id": "affc234c",
   "metadata": {},
   "source": [
    "### Q2. Computing duration\n",
    "\n",
    "Now let's compute the duration variable. It should contain the duration of a ride in minutes.\n",
    "\n",
    "What's the average trip duration in January?\n",
    "\n",
    "    15.16\n",
    "    19.16\n",
    "    24.16\n",
    "    29.16\n"
   ]
  },
  {
   "cell_type": "code",
   "execution_count": 4,
   "id": "2d79b7b1",
   "metadata": {},
   "outputs": [
    {
     "data": {
      "text/plain": [
       "18.610744306736674"
      ]
     },
     "execution_count": 4,
     "metadata": {},
     "output_type": "execute_result"
    }
   ],
   "source": [
    "df_jan['trip_time'] = (df_jan['dropOff_datetime'] - df_jan['pickup_datetime']).dt.seconds/60\n",
    "df_jan['trip_time'].mean()"
   ]
  },
  {
   "cell_type": "markdown",
   "id": "7cb74283",
   "metadata": {},
   "source": [
    "### Data preparation\n",
    "\n",
    "Check the distribution of the duration variable. There are some outliers.\n",
    "\n",
    "Let's remove them and keep only the records where the duration was between 1 and 60 minutes (inclusive).\n",
    "\n",
    "How many records did you drop?"
   ]
  },
  {
   "cell_type": "code",
   "execution_count": 5,
   "id": "dc0895f6",
   "metadata": {},
   "outputs": [
    {
     "name": "stderr",
     "output_type": "stream",
     "text": [
      "/home/oleg/anaconda3/lib/python3.9/site-packages/seaborn/distributions.py:2619: FutureWarning: `distplot` is a deprecated function and will be removed in a future version. Please adapt your code to use either `displot` (a figure-level function with similar flexibility) or `histplot` (an axes-level function for histograms).\n",
      "  warnings.warn(msg, FutureWarning)\n"
     ]
    },
    {
     "data": {
      "text/plain": [
       "44259"
      ]
     },
     "execution_count": 5,
     "metadata": {},
     "output_type": "execute_result"
    },
    {
     "data": {
      "image/png": "[encoded data removed]",
      "text/plain": [
       "<Figure size 432x288 with 1 Axes>"
      ]
     },
     "metadata": {
      "needs_background": "light"
     },
     "output_type": "display_data"
    }
   ],
   "source": [
    "sns.distplot(df_jan.trip_time)\n",
    "\n",
    "df_jan = df_jan[(df_jan['trip_time'] >= 1) & (df_jan['trip_time'] <= 60)]\n",
    "\n",
    "init_train_len - len(df_jan.index)"
   ]
  },
  {
   "cell_type": "code",
   "execution_count": 6,
   "id": "4684caab",
   "metadata": {},
   "outputs": [
    {
     "name": "stderr",
     "output_type": "stream",
     "text": [
      "/home/oleg/anaconda3/lib/python3.9/site-packages/seaborn/distributions.py:2619: FutureWarning: `distplot` is a deprecated function and will be removed in a future version. Please adapt your code to use either `displot` (a figure-level function with similar flexibility) or `histplot` (an axes-level function for histograms).\n",
      "  warnings.warn(msg, FutureWarning)\n"
     ]
    },
    {
     "data": {
      "text/plain": [
       "<AxesSubplot:xlabel='trip_time', ylabel='Density'>"
      ]
     },
     "execution_count": 6,
     "metadata": {},
     "output_type": "execute_result"
    },
    {
     "data": {
      "image/png": "[encoded data removed]",
      "text/plain": [
       "<Figure size 432x288 with 1 Axes>"
      ]
     },
     "metadata": {
      "needs_background": "light"
     },
     "output_type": "display_data"
    }
   ],
   "source": [
    "sns.distplot(df_jan.trip_time)"
   ]
  },
  {
   "cell_type": "markdown",
   "id": "e609f2b1",
   "metadata": {},
   "source": [
    "### Q3. Missing values\n",
    "\n",
    "The features we'll use for our model are the pickup and dropoff location IDs.\n",
    "\n",
    "But they have a lot of missing values there. Let's replace them with \"-1\".\n",
    "\n",
    "What's the fractions of missing values for the pickup location ID? I.e. fraction of \"-1\"s after you filled the NAs.\n",
    "\n",
    "    53%\n",
    "    63%\n",
    "    73%\n",
    "    83%\n"
   ]
  },
  {
   "cell_type": "code",
   "execution_count": 7,
   "id": "778fff39",
   "metadata": {},
   "outputs": [
    {
     "data": {
      "text/plain": [
       "0.835275482428754"
      ]
     },
     "execution_count": 7,
     "metadata": {},
     "output_type": "execute_result"
    }
   ],
   "source": [
    "df_jan['PUlocationID'].fillna(-1, inplace=True)\n",
    "df_jan['DOlocationID'].fillna(-1, inplace=True)\n",
    "len(df_jan[df_jan['PUlocationID']==-1].index)/len(df_jan.index)"
   ]
  },
  {
   "cell_type": "markdown",
   "id": "6c4f8c66",
   "metadata": {},
   "source": [
    "### Q4. One-hot encoding\n",
    "\n",
    "Let's apply one-hot encoding to the pickup and dropoff location IDs. We'll use only these two features for our model.\n",
    "\n",
    "    Turn the dataframe into a list of dictionaries\n",
    "    Fit a dictionary vectorizer\n",
    "    Get a feature matrix from it\n",
    "\n",
    "What's the dimensionality of this matrix? (The number of columns).\n",
    "\n",
    "    2\n",
    "    152\n",
    "    352\n",
    "    525\n",
    "    725\n"
   ]
  },
  {
   "cell_type": "code",
   "execution_count": 8,
   "id": "20a1edf9",
   "metadata": {},
   "outputs": [
    {
     "data": {
      "text/plain": [
       "([{'PUlocationID': '-1.0', 'DOlocationID': '-1.0'},\n",
       "  {'PUlocationID': '-1.0', 'DOlocationID': '-1.0'},\n",
       "  {'PUlocationID': '-1.0', 'DOlocationID': '72.0'},\n",
       "  {'PUlocationID': '-1.0', 'DOlocationID': '61.0'},\n",
       "  {'PUlocationID': '-1.0', 'DOlocationID': '71.0'},\n",
       "  {'PUlocationID': '-1.0', 'DOlocationID': '91.0'},\n",
       "  {'PUlocationID': '-1.0', 'DOlocationID': '39.0'},\n",
       "  {'PUlocationID': '-1.0', 'DOlocationID': '37.0'},\n",
       "  {'PUlocationID': '-1.0', 'DOlocationID': '39.0'},\n",
       "  {'PUlocationID': '-1.0', 'DOlocationID': '72.0'}],\n",
       " 1109853)"
      ]
     },
     "execution_count": 8,
     "metadata": {},
     "output_type": "execute_result"
    }
   ],
   "source": [
    "categorical = ['PUlocationID', 'DOlocationID']\n",
    "df_jan[categorical] = df_jan[categorical].astype(str)\n",
    "dict_jan = df_jan[categorical].to_dict('records')\n",
    "dict_jan[0:10], len(dict_jan)"
   ]
  },
  {
   "cell_type": "code",
   "execution_count": 9,
   "id": "edf6029a",
   "metadata": {},
   "outputs": [
    {
     "data": {
      "text/plain": [
       "<1109853x525 sparse matrix of type '<class 'numpy.float64'>'\n",
       "\twith 2219706 stored elements in Compressed Sparse Row format>"
      ]
     },
     "execution_count": 9,
     "metadata": {},
     "output_type": "execute_result"
    }
   ],
   "source": [
    "from  sklearn.feature_extraction import DictVectorizer\n",
    "\n",
    "dv = DictVectorizer()\n",
    "X = dv.fit_transform(dict_jan)\n",
    "X"
   ]
  },
  {
   "cell_type": "code",
   "execution_count": 10,
   "id": "517b17e3",
   "metadata": {},
   "outputs": [
    {
     "data": {
      "text/plain": [
       "(1109853, 525)"
      ]
     },
     "execution_count": 10,
     "metadata": {},
     "output_type": "execute_result"
    }
   ],
   "source": [
    "X.shape"
   ]
  },
  {
   "cell_type": "markdown",
   "id": "9dbb08a3",
   "metadata": {},
   "source": [
    "### Q5. Training a model\n",
    "\n",
    "Now let's use the feature matrix from the previous step to train a model.\n",
    "\n",
    "    Train a plain linear regression model with default parameters\n",
    "    Calculate the RMSE of the model on the training data\n",
    "\n",
    "What's the RMSE on train?\n",
    "\n",
    "    5.52\n",
    "    10.52\n",
    "    15.52\n",
    "    20.52\n"
   ]
  },
  {
   "cell_type": "code",
   "execution_count": 11,
   "id": "ced0bba5",
   "metadata": {},
   "outputs": [
    {
     "data": {
      "text/plain": [
       "10.528643263708359"
      ]
     },
     "execution_count": 11,
     "metadata": {},
     "output_type": "execute_result"
    }
   ],
   "source": [
    "from sklearn.linear_model import LinearRegression\n",
    "from sklearn.metrics import mean_squared_error\n",
    "\n",
    "\n",
    "y_train = df_jan['trip_time'].values\n",
    "X_train = X\n",
    "\n",
    "lr = LinearRegression()\n",
    "lr.fit(X_train, y_train)\n",
    "\n",
    "y_pred = lr.predict(X_train)\n",
    "\n",
    "mean_squared_error(y_train, y_pred, squared=False)"
   ]
  },
  {
   "cell_type": "markdown",
   "id": "62af1a14",
   "metadata": {},
   "source": [
    "### Q6. Evaluating the model\n",
    "\n",
    "Now let's apply this model to the validation dataset (Feb 2021).\n",
    "\n",
    "What's the RMSE on validation?\n",
    "\n",
    "    6.01\n",
    "    11.01\n",
    "    16.01\n",
    "    21.01\n"
   ]
  },
  {
   "cell_type": "code",
   "execution_count": 12,
   "id": "6f0b7174",
   "metadata": {},
   "outputs": [
    {
     "data": {
      "text/plain": [
       "([{'PUlocationID': '173.0', 'DOlocationID': '82.0'},\n",
       "  {'PUlocationID': '173.0', 'DOlocationID': '56.0'},\n",
       "  {'PUlocationID': '82.0', 'DOlocationID': '129.0'},\n",
       "  {'PUlocationID': '-1.0', 'DOlocationID': '225.0'},\n",
       "  {'PUlocationID': '-1.0', 'DOlocationID': '61.0'},\n",
       "  {'PUlocationID': '-1.0', 'DOlocationID': '26.0'},\n",
       "  {'PUlocationID': '-1.0', 'DOlocationID': '72.0'},\n",
       "  {'PUlocationID': '-1.0', 'DOlocationID': '169.0'},\n",
       "  {'PUlocationID': '-1.0', 'DOlocationID': '161.0'},\n",
       "  {'PUlocationID': '13.0', 'DOlocationID': '182.0'}],\n",
       " 990141)"
      ]
     },
     "execution_count": 12,
     "metadata": {},
     "output_type": "execute_result"
    }
   ],
   "source": [
    "df_feb['PUlocationID'].fillna(-1, inplace=True)\n",
    "df_feb['DOlocationID'].fillna(-1, inplace=True)\n",
    "df_feb[categorical] = df_feb[categorical].astype(str)\n",
    "\n",
    "df_feb['trip_time'] = (df_feb['dropOff_datetime'] - df_feb['pickup_datetime']).dt.seconds/60\n",
    "df_feb = df_feb[(df_feb['trip_time'] >= 1) & (df_feb['trip_time'] <= 60)]\n",
    "\n",
    "dict_feb = df_feb[categorical].to_dict('records')\n",
    "dict_feb[0:10], len(dict_feb)"
   ]
  },
  {
   "cell_type": "code",
   "execution_count": 13,
   "id": "2a977e1e",
   "metadata": {},
   "outputs": [
    {
     "data": {
      "text/plain": [
       "11.014589361640338"
      ]
     },
     "execution_count": 13,
     "metadata": {},
     "output_type": "execute_result"
    }
   ],
   "source": [
    "X_test = dv.transform(dict_feb)\n",
    "y_test = df_feb['trip_time'].values\n",
    "\n",
    "y_pred = lr.predict(X_test)\n",
    "\n",
    "mean_squared_error(y_test, y_pred, squared=False)"
   ]
  }
 ],
 "metadata": {
  "kernelspec": {
   "display_name": "Python 3 (ipykernel)",
   "language": "python",
   "name": "python3"
  },
  "language_info": {
   "codemirror_mode": {
    "name": "ipython",
    "version": 3
   },
   "file_extension": ".py",
   "mimetype": "text/x-python",
   "name": "python",
   "nbconvert_exporter": "python",
   "pygments_lexer": "ipython3",
   "version": "3.9.12"
  }
 },
 "nbformat": 4,
 "nbformat_minor": 5
}
